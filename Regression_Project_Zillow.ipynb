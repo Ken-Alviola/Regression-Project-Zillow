{
 "cells": [
  {
   "cell_type": "code",
   "execution_count": 1,
   "metadata": {
    "ExecuteTime": {
     "end_time": "2021-03-22T01:40:07.401341Z",
     "start_time": "2021-03-22T01:40:06.851997Z"
    }
   },
   "outputs": [],
   "source": [
    "import warnings\n",
    "warnings.filterwarnings(\"ignore\")\n",
    "\n",
    "import pandas as pd\n",
    "import numpy as np\n",
    "import matplotlib.pyplot as plt\n",
    "import seaborn as sns\n",
    "\n",
    "\n",
    "from scipy import stats\n",
    "from sklearn.metrics import mean_squared_error\n",
    "\n",
    "\n",
    "from jupyterthemes import jtplot\n",
    "jtplot.style()\n",
    "\n",
    "from wrangle import wrangle_zillow, split_zillow, scale_data\n",
    "\n",
    "import explore\n",
    "\n",
    "plt.rcParams['figure.figsize'] = (4, 2)"
   ]
  },
  {
   "cell_type": "markdown",
   "metadata": {},
   "source": [
    "# Analyzing and predicting customer churn\n",
    "## Key findings:\n",
    "-\n",
    "- "
   ]
  },
  {
   "cell_type": "markdown",
   "metadata": {},
   "source": [
    "# Data acquisition and prep\n",
    "- Data acquired from zillow sql database"
   ]
  },
  {
   "cell_type": "code",
   "execution_count": 2,
   "metadata": {
    "ExecuteTime": {
     "end_time": "2021-03-22T01:40:16.374570Z",
     "start_time": "2021-03-22T01:40:11.451643Z"
    }
   },
   "outputs": [
    {
     "data": {
      "text/html": [
       "<div>\n",
       "<style scoped>\n",
       "    .dataframe tbody tr th:only-of-type {\n",
       "        vertical-align: middle;\n",
       "    }\n",
       "\n",
       "    .dataframe tbody tr th {\n",
       "        vertical-align: top;\n",
       "    }\n",
       "\n",
       "    .dataframe thead th {\n",
       "        text-align: right;\n",
       "    }\n",
       "</style>\n",
       "<table border=\"1\" class=\"dataframe\">\n",
       "  <thead>\n",
       "    <tr style=\"text-align: right;\">\n",
       "      <th></th>\n",
       "      <th>square_feet</th>\n",
       "      <th>fips</th>\n",
       "      <th>latitude</th>\n",
       "      <th>longitude</th>\n",
       "      <th>lotsizesquarefeet</th>\n",
       "      <th>regionidzip</th>\n",
       "      <th>tax_value</th>\n",
       "      <th>taxes</th>\n",
       "      <th>transactiondate</th>\n",
       "      <th>age_in_years</th>\n",
       "      <th>Bathrooms</th>\n",
       "      <th>Bedrooms</th>\n",
       "      <th>tax_rate</th>\n",
       "    </tr>\n",
       "    <tr>\n",
       "      <th>parcelid</th>\n",
       "      <th></th>\n",
       "      <th></th>\n",
       "      <th></th>\n",
       "      <th></th>\n",
       "      <th></th>\n",
       "      <th></th>\n",
       "      <th></th>\n",
       "      <th></th>\n",
       "      <th></th>\n",
       "      <th></th>\n",
       "      <th></th>\n",
       "      <th></th>\n",
       "      <th></th>\n",
       "    </tr>\n",
       "  </thead>\n",
       "  <tbody>\n",
       "    <tr>\n",
       "      <th>11721753</th>\n",
       "      <td>1316.0</td>\n",
       "      <td>6037.0</td>\n",
       "      <td>34033180.0</td>\n",
       "      <td>-118355396.0</td>\n",
       "      <td>5672.0</td>\n",
       "      <td>95997.0</td>\n",
       "      <td>205123.0</td>\n",
       "      <td>2627.48</td>\n",
       "      <td>2017-07-21</td>\n",
       "      <td>98.0</td>\n",
       "      <td>2</td>\n",
       "      <td>2</td>\n",
       "      <td>1.28</td>\n",
       "    </tr>\n",
       "    <tr>\n",
       "      <th>11289917</th>\n",
       "      <td>1458.0</td>\n",
       "      <td>6037.0</td>\n",
       "      <td>34686163.0</td>\n",
       "      <td>-118113100.0</td>\n",
       "      <td>8284.0</td>\n",
       "      <td>97318.0</td>\n",
       "      <td>136104.0</td>\n",
       "      <td>2319.90</td>\n",
       "      <td>2017-06-23</td>\n",
       "      <td>51.0</td>\n",
       "      <td>2</td>\n",
       "      <td>2</td>\n",
       "      <td>1.70</td>\n",
       "    </tr>\n",
       "    <tr>\n",
       "      <th>11637029</th>\n",
       "      <td>1766.0</td>\n",
       "      <td>6037.0</td>\n",
       "      <td>34073222.0</td>\n",
       "      <td>-118390965.0</td>\n",
       "      <td>25082.0</td>\n",
       "      <td>96086.0</td>\n",
       "      <td>810694.0</td>\n",
       "      <td>9407.01</td>\n",
       "      <td>2017-07-28</td>\n",
       "      <td>41.0</td>\n",
       "      <td>2</td>\n",
       "      <td>2</td>\n",
       "      <td>1.16</td>\n",
       "    </tr>\n",
       "    <tr>\n",
       "      <th>11705026</th>\n",
       "      <td>1421.0</td>\n",
       "      <td>6037.0</td>\n",
       "      <td>33999877.0</td>\n",
       "      <td>-118291863.0</td>\n",
       "      <td>6707.0</td>\n",
       "      <td>96018.0</td>\n",
       "      <td>35606.0</td>\n",
       "      <td>543.69</td>\n",
       "      <td>2017-06-30</td>\n",
       "      <td>110.0</td>\n",
       "      <td>1</td>\n",
       "      <td>1</td>\n",
       "      <td>1.53</td>\n",
       "    </tr>\n",
       "    <tr>\n",
       "      <th>14269464</th>\n",
       "      <td>2541.0</td>\n",
       "      <td>6059.0</td>\n",
       "      <td>33694636.0</td>\n",
       "      <td>-117912245.0</td>\n",
       "      <td>4975.0</td>\n",
       "      <td>96958.0</td>\n",
       "      <td>880456.0</td>\n",
       "      <td>9819.72</td>\n",
       "      <td>2017-06-01</td>\n",
       "      <td>18.0</td>\n",
       "      <td>3</td>\n",
       "      <td>3</td>\n",
       "      <td>1.12</td>\n",
       "    </tr>\n",
       "  </tbody>\n",
       "</table>\n",
       "</div>"
      ],
      "text/plain": [
       "          square_feet    fips    latitude    longitude  lotsizesquarefeet  \\\n",
       "parcelid                                                                    \n",
       "11721753       1316.0  6037.0  34033180.0 -118355396.0             5672.0   \n",
       "11289917       1458.0  6037.0  34686163.0 -118113100.0             8284.0   \n",
       "11637029       1766.0  6037.0  34073222.0 -118390965.0            25082.0   \n",
       "11705026       1421.0  6037.0  33999877.0 -118291863.0             6707.0   \n",
       "14269464       2541.0  6059.0  33694636.0 -117912245.0             4975.0   \n",
       "\n",
       "          regionidzip  tax_value    taxes transactiondate  age_in_years  \\\n",
       "parcelid                                                                  \n",
       "11721753      95997.0   205123.0  2627.48      2017-07-21          98.0   \n",
       "11289917      97318.0   136104.0  2319.90      2017-06-23          51.0   \n",
       "11637029      96086.0   810694.0  9407.01      2017-07-28          41.0   \n",
       "11705026      96018.0    35606.0   543.69      2017-06-30         110.0   \n",
       "14269464      96958.0   880456.0  9819.72      2017-06-01          18.0   \n",
       "\n",
       "         Bathrooms Bedrooms  tax_rate  \n",
       "parcelid                               \n",
       "11721753         2        2      1.28  \n",
       "11289917         2        2      1.70  \n",
       "11637029         2        2      1.16  \n",
       "11705026         1        1      1.53  \n",
       "14269464         3        3      1.12  "
      ]
     },
     "execution_count": 2,
     "metadata": {},
     "output_type": "execute_result"
    }
   ],
   "source": [
    "zillow = wrangle_zillow()\n",
    "zillow.head()"
   ]
  },
  {
   "cell_type": "code",
   "execution_count": 3,
   "metadata": {
    "ExecuteTime": {
     "end_time": "2021-03-22T01:40:27.224681Z",
     "start_time": "2021-03-22T01:40:27.201119Z"
    }
   },
   "outputs": [
    {
     "name": "stdout",
     "output_type": "stream",
     "text": [
      "<class 'pandas.core.frame.DataFrame'>\n",
      "Int64Index: 32737 entries, 11721753 to 10713993\n",
      "Data columns (total 13 columns):\n",
      " #   Column             Non-Null Count  Dtype  \n",
      "---  ------             --------------  -----  \n",
      " 0   square_feet        32737 non-null  float64\n",
      " 1   fips               32737 non-null  float64\n",
      " 2   latitude           32737 non-null  float64\n",
      " 3   longitude          32737 non-null  float64\n",
      " 4   lotsizesquarefeet  32737 non-null  float64\n",
      " 5   regionidzip        32737 non-null  float64\n",
      " 6   tax_value          32737 non-null  float64\n",
      " 7   taxes              32737 non-null  float64\n",
      " 8   transactiondate    32737 non-null  object \n",
      " 9   age_in_years       32737 non-null  float64\n",
      " 10  Bathrooms          32737 non-null  object \n",
      " 11  Bedrooms           32737 non-null  object \n",
      " 12  tax_rate           32737 non-null  float64\n",
      "dtypes: float64(10), object(3)\n",
      "memory usage: 3.5+ MB\n"
     ]
    }
   ],
   "source": [
    "zillow.info()"
   ]
  },
  {
   "cell_type": "markdown",
   "metadata": {
    "ExecuteTime": {
     "end_time": "2021-03-08T20:35:35.614685Z",
     "start_time": "2021-03-08T20:35:35.607780Z"
    }
   },
   "source": [
    "## Exploration"
   ]
  },
  {
   "cell_type": "code",
   "execution_count": null,
   "metadata": {
    "ExecuteTime": {
     "end_time": "2021-03-22T00:45:19.766351Z",
     "start_time": "2021-03-22T00:45:19.762223Z"
    }
   },
   "outputs": [],
   "source": [
    "# splitting columns between categorical and quantitative for explore functions\n",
    "cat_vars = ['fips', 'Bedrooms', 'Bathrooms']\n",
    "\n",
    "quant_vars = ['square_feet',                         \n",
    "              'lotsizesquarefeet',              \n",
    "              'tax_value',\n",
    "              'taxes',              \n",
    "              'age_in_years',\n",
    "              ]"
   ]
  },
  {
   "cell_type": "code",
   "execution_count": null,
   "metadata": {
    "ExecuteTime": {
     "end_time": "2021-03-22T00:45:32.562591Z",
     "start_time": "2021-03-22T00:45:31.034361Z"
    },
    "scrolled": false
   },
   "outputs": [],
   "source": [
    "#explore.py function to visualize single category data\n",
    "explore.explore_univariate(zillow, cat_vars, quant_vars)"
   ]
  },
  {
   "cell_type": "markdown",
   "metadata": {},
   "source": [
    "##### Univariate Takeaways\n",
    "- "
   ]
  },
  {
   "cell_type": "code",
   "execution_count": null,
   "metadata": {
    "ExecuteTime": {
     "end_time": "2021-03-22T00:51:24.866656Z",
     "start_time": "2021-03-22T00:51:24.836514Z"
    }
   },
   "outputs": [],
   "source": [
    "train, validate, test = split_zillow(zillow)"
   ]
  },
  {
   "cell_type": "code",
   "execution_count": null,
   "metadata": {
    "ExecuteTime": {
     "end_time": "2021-03-22T01:29:37.548359Z",
     "start_time": "2021-03-22T00:51:27.519669Z"
    },
    "scrolled": false
   },
   "outputs": [],
   "source": [
    "#explore function to compare variables to the target of 'churn'\n",
    "explore.explore_bivariate(train,'tax_value', cat_vars, quant_vars)"
   ]
  },
  {
   "cell_type": "markdown",
   "metadata": {},
   "source": [
    "##### Bivariate Takeaways\n",
    "- "
   ]
  },
  {
   "cell_type": "code",
   "execution_count": null,
   "metadata": {
    "ExecuteTime": {
     "end_time": "2021-03-09T15:33:35.735628Z",
     "start_time": "2021-03-09T15:30:39.339183Z"
    },
    "scrolled": true
   },
   "outputs": [],
   "source": [
    "#Narrowing down variables for use with multivariate function. This function compares two categories and separates churn by hue\n",
    "cat_vars = ['Month_to_month','Fiber_optic','DSL','No_internet']\n",
    "quant_vars = ['tenure','monthly_charges']\n",
    "explore.explore_multivariate(train,'churn', cat_vars,quant_vars)"
   ]
  },
  {
   "cell_type": "markdown",
   "metadata": {},
   "source": [
    "##### Multivariate Takeaways\n",
    "- Fiber optic customers have much higher minimum monthly charges than other customers\n",
    "- Half of churned month-to-month customers paid over $70 a month for service"
   ]
  },
  {
   "cell_type": "markdown",
   "metadata": {
    "ExecuteTime": {
     "end_time": "2021-03-08T19:38:09.268995Z",
     "start_time": "2021-03-08T19:38:09.260104Z"
    }
   },
   "source": [
    "### 1. Are the monthly charges between churned customers significantly higher from unchurned customers?"
   ]
  },
  {
   "cell_type": "code",
   "execution_count": null,
   "metadata": {
    "ExecuteTime": {
     "end_time": "2021-03-09T15:33:35.749154Z",
     "start_time": "2021-03-09T15:33:35.743078Z"
    }
   },
   "outputs": [],
   "source": [
    "null_hypothesis = \"The means of monthly_charges are the same for churn vs. no churn\"\n",
    "alternative_hypothesis = \"Churned customers had higher monthly_charges than unchurned\"\n",
    "confidence_level = .95\n",
    "a = 1 - confidence_level "
   ]
  },
  {
   "cell_type": "code",
   "execution_count": null,
   "metadata": {
    "ExecuteTime": {
     "end_time": "2021-03-09T15:34:30.177792Z",
     "start_time": "2021-03-09T15:34:30.162476Z"
    }
   },
   "outputs": [],
   "source": [
    "#subsetting churned observations from train data\n",
    "churned = train[train.churn == 1]\n",
    "no_churn = train[train.churn == 0]\n",
    "churned_fiber_optic = churned[churned.Fiber_optic == 1]"
   ]
  },
  {
   "cell_type": "code",
   "execution_count": null,
   "metadata": {
    "ExecuteTime": {
     "end_time": "2021-03-09T15:34:32.684984Z",
     "start_time": "2021-03-09T15:34:32.674330Z"
    }
   },
   "outputs": [],
   "source": [
    "# % of total churned: month-to-month customers 87% , fiber optic customers 69%, % of churned month-to-month fiber optic customers 89%\n",
    "(churned.Month_to_month == 1).mean(), (churned.Fiber_optic == 1).mean(), (churned_fiber_optic.Month_to_month == 1).mean()"
   ]
  },
  {
   "cell_type": "code",
   "execution_count": null,
   "metadata": {
    "ExecuteTime": {
     "end_time": "2021-03-09T15:34:35.162570Z",
     "start_time": "2021-03-09T15:34:35.153355Z"
    }
   },
   "outputs": [],
   "source": [
    "# % of total churned, month-to-month fiber optic customers. 61% ot total churn\n",
    "((churned.Month_to_month == 1) & (churned.Fiber_optic == 1)).mean()"
   ]
  },
  {
   "cell_type": "code",
   "execution_count": null,
   "metadata": {
    "ExecuteTime": {
     "end_time": "2021-03-09T15:34:36.275567Z",
     "start_time": "2021-03-09T15:34:36.265045Z"
    }
   },
   "outputs": [],
   "source": [
    "#one tailed two sample t-test for independence\n",
    "t, p = stats.ttest_ind(churned.monthly_charges, no_churn.monthly_charges)\n",
    "t, p"
   ]
  },
  {
   "cell_type": "code",
   "execution_count": null,
   "metadata": {
    "ExecuteTime": {
     "end_time": "2021-03-09T15:34:37.161277Z",
     "start_time": "2021-03-09T15:34:37.155799Z"
    }
   },
   "outputs": [],
   "source": [
    "if (p/2) < a and t > 0:\n",
    "    print(\"Reject the null hypothesis\")\n",
    "else:\n",
    "    print(\"We fail to reject the null hypothesis\")"
   ]
  },
  {
   "cell_type": "code",
   "execution_count": null,
   "metadata": {
    "ExecuteTime": {
     "end_time": "2021-03-09T15:34:38.008634Z",
     "start_time": "2021-03-09T15:34:38.003199Z"
    }
   },
   "outputs": [],
   "source": [
    "print('The mean monthly charges for churned customers is significantly greater than unchurned')"
   ]
  },
  {
   "cell_type": "code",
   "execution_count": null,
   "metadata": {
    "ExecuteTime": {
     "end_time": "2021-03-09T15:34:38.899502Z",
     "start_time": "2021-03-09T15:34:38.891458Z"
    }
   },
   "outputs": [],
   "source": [
    "#verification: average monthly charges for churned customers is approximately 20% higher than unchurned on the train data set\n",
    "churned.monthly_charges.mean(), no_churn.monthly_charges.mean()"
   ]
  },
  {
   "cell_type": "markdown",
   "metadata": {},
   "source": [
    "### 2. Is Churn independent of the Fiber Optic service?"
   ]
  },
  {
   "cell_type": "code",
   "execution_count": null,
   "metadata": {
    "ExecuteTime": {
     "end_time": "2021-03-09T15:34:40.588228Z",
     "start_time": "2021-03-09T15:34:40.583604Z"
    }
   },
   "outputs": [],
   "source": [
    "null_hypothesis = \"Churn is independent of the Fiber Optic service\"\n",
    "alternative_hypothesis = \"Churn depends on Fiber Optic service subscription\"\n",
    "confidence_level = .95\n",
    "a = 1 - confidence_level"
   ]
  },
  {
   "cell_type": "code",
   "execution_count": null,
   "metadata": {
    "ExecuteTime": {
     "end_time": "2021-03-09T15:34:41.617047Z",
     "start_time": "2021-03-09T15:34:41.585559Z"
    }
   },
   "outputs": [],
   "source": [
    "observed = pd.crosstab(train.churn, train.Fiber_optic)\n",
    "observed"
   ]
  },
  {
   "cell_type": "code",
   "execution_count": null,
   "metadata": {
    "ExecuteTime": {
     "end_time": "2021-03-09T15:34:42.562421Z",
     "start_time": "2021-03-09T15:34:42.550718Z"
    }
   },
   "outputs": [],
   "source": [
    "#chi2 test between two categorical variables\n",
    "chi2, p, degf, expected = stats.chi2_contingency(observed)\n",
    "chi2, p, degf, expected"
   ]
  },
  {
   "cell_type": "code",
   "execution_count": null,
   "metadata": {
    "ExecuteTime": {
     "end_time": "2021-03-09T15:34:43.516927Z",
     "start_time": "2021-03-09T15:34:43.509011Z"
    }
   },
   "outputs": [],
   "source": [
    "if p < a:\n",
    "    print('We reject the null')\n",
    "else:\n",
    "    print(\"we fail to reject the null\")"
   ]
  },
  {
   "cell_type": "code",
   "execution_count": null,
   "metadata": {
    "ExecuteTime": {
     "end_time": "2021-03-09T15:34:44.555666Z",
     "start_time": "2021-03-09T15:34:44.548840Z"
    }
   },
   "outputs": [],
   "source": [
    "print('There is enough evidence to suggest that churn is dependent on whether the customer has Fiber Optic service or not')"
   ]
  },
  {
   "cell_type": "markdown",
   "metadata": {},
   "source": [
    "### 3. Is there a correlation between monthly charges and tenure for churned fiber optic customers?"
   ]
  },
  {
   "cell_type": "code",
   "execution_count": null,
   "metadata": {
    "ExecuteTime": {
     "end_time": "2021-03-09T15:34:46.043144Z",
     "start_time": "2021-03-09T15:34:46.032241Z"
    }
   },
   "outputs": [],
   "source": [
    "null_hypothesis = \"There is no correlation between monthly charges and tenure for churned fiber optic customers\"\n",
    "alternative_hypothesis = \"There is a positive correlation between monthly charges and tenure for churned fiber optic customers\"\n",
    "confidence_level = .95\n",
    "a = 1 - confidence_level\n",
    "\n",
    "#Pearson correlation test between two continuous variables\n",
    "r, p = stats.pearsonr(churned_fiber_optic.tenure, churned_fiber_optic.monthly_charges)\n",
    "r, p"
   ]
  },
  {
   "cell_type": "code",
   "execution_count": null,
   "metadata": {
    "ExecuteTime": {
     "end_time": "2021-03-09T15:34:46.938929Z",
     "start_time": "2021-03-09T15:34:46.930345Z"
    }
   },
   "outputs": [],
   "source": [
    "if p < a:\n",
    "    print('We reject the null')\n",
    "else:\n",
    "    print(\"we fail to reject the null\")\n",
    "    \n",
    "print('Pearson correlation = ', r)\n",
    "print('There is a weak-moderate positive correlation between tenure and monthly charges for churned fiber optic customers')"
   ]
  },
  {
   "cell_type": "code",
   "execution_count": null,
   "metadata": {
    "ExecuteTime": {
     "end_time": "2021-03-09T15:34:48.172811Z",
     "start_time": "2021-03-09T15:34:47.872187Z"
    }
   },
   "outputs": [],
   "source": [
    "#correlation visualization\n",
    "jtplot.style()\n",
    "\n",
    "sns.relplot(x='tenure',y='monthly_charges',data=churned_fiber_optic)\n",
    "plt.title('Tenure vs Monthly Charges for churned fiber optic customers')\n",
    "plt.text(12,115, f'r = {r:.3f}')"
   ]
  },
  {
   "cell_type": "markdown",
   "metadata": {},
   "source": [
    "# Modeling and Evaluation\n",
    "- Creating all 4 types of classification models using mostly default settings then choosing the best performing\n",
    "- get_metrics function from prepare.py"
   ]
  },
  {
   "cell_type": "code",
   "execution_count": null,
   "metadata": {
    "ExecuteTime": {
     "end_time": "2021-03-09T15:35:15.302071Z",
     "start_time": "2021-03-09T15:35:15.293231Z"
    }
   },
   "outputs": [],
   "source": [
    "#setting baseline\n",
    "train.churn.value_counts()"
   ]
  },
  {
   "cell_type": "code",
   "execution_count": null,
   "metadata": {
    "ExecuteTime": {
     "end_time": "2021-03-09T15:35:16.366734Z",
     "start_time": "2021-03-09T15:35:16.335423Z"
    }
   },
   "outputs": [],
   "source": [
    "#baseline is 0 == no churn\n",
    "train['baseline_prediction'] = 0\n",
    "train.head(1)"
   ]
  },
  {
   "cell_type": "code",
   "execution_count": null,
   "metadata": {
    "ExecuteTime": {
     "end_time": "2021-03-09T15:35:17.492201Z",
     "start_time": "2021-03-09T15:35:17.479902Z"
    }
   },
   "outputs": [],
   "source": [
    "baseline_accuracy = (train.churn == train.baseline_prediction).mean()\n",
    "baseline_accuracy"
   ]
  },
  {
   "cell_type": "markdown",
   "metadata": {},
   "source": [
    "### Baseline accuracy ~ 73%"
   ]
  },
  {
   "cell_type": "code",
   "execution_count": null,
   "metadata": {
    "ExecuteTime": {
     "end_time": "2021-03-09T15:35:19.416875Z",
     "start_time": "2021-03-09T15:35:19.401890Z"
    }
   },
   "outputs": [],
   "source": [
    "#Narrowing down features based on previous hypothesis testing. Partner and dependents were included just based on analysis from previous project\n",
    "features = ['tenure','monthly_charges','partner','dependents','Month_to_month',\n",
    "            'One_year_contract','Two_year_contract','DSL','Fiber_optic','No_internet']\n",
    "\n",
    "X_train = train[features]\n",
    "y_train = train.churn \n",
    "\n",
    "X_validate = validate[features]\n",
    "y_validate = validate.churn\n",
    "\n",
    "X_test = test[features]\n",
    "y_test = test.churn"
   ]
  },
  {
   "cell_type": "markdown",
   "metadata": {
    "ExecuteTime": {
     "end_time": "2021-03-08T21:23:56.425541Z",
     "start_time": "2021-03-08T21:23:56.392239Z"
    }
   },
   "source": [
    "## Model 1: Decision Tree"
   ]
  },
  {
   "cell_type": "code",
   "execution_count": null,
   "metadata": {
    "ExecuteTime": {
     "end_time": "2021-03-09T15:35:21.010579Z",
     "start_time": "2021-03-09T15:35:20.992253Z"
    }
   },
   "outputs": [],
   "source": [
    "clf = DecisionTreeClassifier(max_depth=5, random_state=123)\n",
    "clf = clf.fit(X_train,y_train)"
   ]
  },
  {
   "cell_type": "code",
   "execution_count": null,
   "metadata": {
    "ExecuteTime": {
     "end_time": "2021-03-09T15:35:22.076975Z",
     "start_time": "2021-03-09T15:35:22.032212Z"
    }
   },
   "outputs": [],
   "source": [
    "#training data report\n",
    "decision_tree_report = get_metrics(clf, X_train, y_train)\n",
    "decision_tree_report"
   ]
  },
  {
   "cell_type": "code",
   "execution_count": null,
   "metadata": {
    "ExecuteTime": {
     "end_time": "2021-03-09T15:35:23.293913Z",
     "start_time": "2021-03-09T15:35:23.252292Z"
    }
   },
   "outputs": [],
   "source": [
    "#validate data report\n",
    "decision_tree_report_validate = get_metrics(clf,X_validate,y_validate)\n",
    "decision_tree_report_validate"
   ]
  },
  {
   "cell_type": "markdown",
   "metadata": {},
   "source": [
    "## Model 2: Random Forest"
   ]
  },
  {
   "cell_type": "code",
   "execution_count": null,
   "metadata": {
    "ExecuteTime": {
     "end_time": "2021-03-09T15:35:25.209972Z",
     "start_time": "2021-03-09T15:35:24.919452Z"
    }
   },
   "outputs": [],
   "source": [
    "rf = RandomForestClassifier(bootstrap=True,\n",
    "                            class_weight=None,\n",
    "                            criterion='gini',\n",
    "                            min_samples_leaf=5,\n",
    "                            n_estimators=100,\n",
    "                            max_depth=5,\n",
    "                            random_state=123)\n",
    "rf = rf.fit(X_train, y_train)"
   ]
  },
  {
   "cell_type": "code",
   "execution_count": null,
   "metadata": {
    "ExecuteTime": {
     "end_time": "2021-03-09T15:35:25.955880Z",
     "start_time": "2021-03-09T15:35:25.832265Z"
    }
   },
   "outputs": [],
   "source": [
    "#training data report\n",
    "rf_report = get_metrics(rf,X_train,y_train)\n",
    "rf_report"
   ]
  },
  {
   "cell_type": "code",
   "execution_count": null,
   "metadata": {
    "ExecuteTime": {
     "end_time": "2021-03-09T15:35:26.604445Z",
     "start_time": "2021-03-09T15:35:26.511196Z"
    }
   },
   "outputs": [],
   "source": [
    "#validate data report\n",
    "rf_report_validate = get_metrics(rf,X_validate,y_validate)\n",
    "rf_report_validate"
   ]
  },
  {
   "cell_type": "markdown",
   "metadata": {},
   "source": [
    "## Model 3: KNN"
   ]
  },
  {
   "cell_type": "code",
   "execution_count": null,
   "metadata": {
    "ExecuteTime": {
     "end_time": "2021-03-09T15:35:28.463841Z",
     "start_time": "2021-03-09T15:35:28.191269Z"
    }
   },
   "outputs": [],
   "source": [
    "knn = KNeighborsClassifier(n_neighbors=4)\n",
    "knn.fit(X_train, y_train)\n",
    "\n",
    "#training data report\n",
    "knn_report = get_metrics(knn,X_train,y_train)\n",
    "knn_report"
   ]
  },
  {
   "cell_type": "code",
   "execution_count": null,
   "metadata": {
    "ExecuteTime": {
     "end_time": "2021-03-09T15:35:29.218544Z",
     "start_time": "2021-03-09T15:35:29.078877Z"
    }
   },
   "outputs": [],
   "source": [
    "#validate data report\n",
    "knn_report_validate = get_metrics(knn,X_validate,y_validate)\n",
    "knn_report_validate"
   ]
  },
  {
   "cell_type": "markdown",
   "metadata": {
    "ExecuteTime": {
     "end_time": "2021-03-08T22:12:55.132399Z",
     "start_time": "2021-03-08T22:12:54.896638Z"
    }
   },
   "source": [
    "## Model 4: Logistic Regression"
   ]
  },
  {
   "cell_type": "code",
   "execution_count": null,
   "metadata": {
    "ExecuteTime": {
     "end_time": "2021-03-09T15:35:30.716797Z",
     "start_time": "2021-03-09T15:35:30.651191Z"
    }
   },
   "outputs": [],
   "source": [
    "logit = LogisticRegression(C=1, class_weight='balanced',\n",
    "                           random_state=123,solver='liblinear')\n",
    "logit = logit.fit(X_train, y_train)\n",
    "\n",
    "#training data report\n",
    "log_report = get_metrics(logit,X_train,y_train)\n",
    "log_report"
   ]
  },
  {
   "cell_type": "code",
   "execution_count": null,
   "metadata": {
    "ExecuteTime": {
     "end_time": "2021-03-09T15:35:31.640026Z",
     "start_time": "2021-03-09T15:35:31.598004Z"
    }
   },
   "outputs": [],
   "source": [
    "#validate data report\n",
    "log_report_validate = get_metrics(logit,X_validate,y_validate)\n",
    "log_report_validate"
   ]
  },
  {
   "cell_type": "markdown",
   "metadata": {},
   "source": [
    "# Logistic Regression model chosen for it's high recall compared to other models\n",
    "- False negative churn predictions are more costly so a high recall is necessary"
   ]
  },
  {
   "cell_type": "code",
   "execution_count": null,
   "metadata": {
    "ExecuteTime": {
     "end_time": "2021-03-09T15:35:33.053138Z",
     "start_time": "2021-03-09T15:35:33.010968Z"
    }
   },
   "outputs": [],
   "source": [
    "#test data report\n",
    "log_report_test = get_metrics(logit, X_test,y_test)\n",
    "log_report_test"
   ]
  },
  {
   "cell_type": "code",
   "execution_count": null,
   "metadata": {
    "ExecuteTime": {
     "end_time": "2021-03-09T16:31:35.184687Z",
     "start_time": "2021-03-09T16:31:35.165449Z"
    }
   },
   "outputs": [],
   "source": [
    "#creating churn predictions and probabilities using test dataset and log model and outputing to .csv\n",
    "telco_predict = telco[features]\n",
    "prediction = logit.predict(telco_predict)\n",
    "prediction_probability = logit.predict_proba(telco_predict)\n",
    "prediction, prediction_probability"
   ]
  },
  {
   "cell_type": "code",
   "execution_count": null,
   "metadata": {
    "ExecuteTime": {
     "end_time": "2021-03-09T16:31:37.634782Z",
     "start_time": "2021-03-09T16:31:37.612752Z"
    }
   },
   "outputs": [],
   "source": [
    "#new predictions dataframe\n",
    "predicted_df = pd.concat([telco.customer_id,pd.DataFrame(prediction_probability[0:,1]),pd.DataFrame(prediction)],axis=1)\n",
    "predicted_df.columns = ['customer_id', 'probability_of_churn', 'churn_prediction']\n",
    "predicted_df"
   ]
  },
  {
   "cell_type": "code",
   "execution_count": null,
   "metadata": {
    "ExecuteTime": {
     "end_time": "2021-03-09T15:35:35.820868Z",
     "start_time": "2021-03-09T15:35:35.771285Z"
    }
   },
   "outputs": [],
   "source": [
    "predicted_df.to_csv('churn_predictions.csv')"
   ]
  },
  {
   "cell_type": "code",
   "execution_count": null,
   "metadata": {
    "ExecuteTime": {
     "end_time": "2021-03-09T16:31:58.845367Z",
     "start_time": "2021-03-09T16:31:58.835632Z"
    }
   },
   "outputs": [],
   "source": [
    "#accuracy of predictions compared to actual churn\n",
    "(telco.churn == predicted_df.churn_prediction).mean()"
   ]
  },
  {
   "cell_type": "markdown",
   "metadata": {},
   "source": [
    "# Key Takeaways\n",
    "- We need to address the high rate of churn for our month-to-month and fiber optic customers\n",
    "- Current models aren't much more accurate than baseline but logistic regression model had highest recall of 0.82\n",
    "- With more time I would tweak each model to maximize performance and possibly add features"
   ]
  },
  {
   "cell_type": "code",
   "execution_count": null,
   "metadata": {},
   "outputs": [],
   "source": []
  }
 ],
 "metadata": {
  "kernelspec": {
   "display_name": "Python 3",
   "language": "python",
   "name": "python3"
  },
  "language_info": {
   "codemirror_mode": {
    "name": "ipython",
    "version": 3
   },
   "file_extension": ".py",
   "mimetype": "text/x-python",
   "name": "python",
   "nbconvert_exporter": "python",
   "pygments_lexer": "ipython3",
   "version": "3.8.5"
  }
 },
 "nbformat": 4,
 "nbformat_minor": 4
}
